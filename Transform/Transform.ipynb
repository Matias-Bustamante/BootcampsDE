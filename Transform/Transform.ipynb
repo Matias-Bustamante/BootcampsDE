{
 "cells": [
  {
   "cell_type": "code",
   "execution_count": 1,
   "id": "02b3d03c-2a69-4fdc-9016-de1a213eb014",
   "metadata": {},
   "outputs": [],
   "source": [
    "from pyspark.sql import SparkSession \n",
    "spark=SparkSession.builder.master(\"spark://localhost:7077\").getOrCreate()"
   ]
  },
  {
   "cell_type": "code",
   "execution_count": 9,
   "id": "d2a759c0-4726-4aae-af4a-9af038420cda",
   "metadata": {},
   "outputs": [
    {
     "name": "stderr",
     "output_type": "stream",
     "text": [
      "                                                                                "
     ]
    }
   ],
   "source": [
    "df=spark.read.parquet(\"hdfs://172.17.0.2:9000/nifi/*.parquet\")"
   ]
  },
  {
   "cell_type": "code",
   "execution_count": 15,
   "id": "109efeea-15dd-433f-bff9-f416aa3f738c",
   "metadata": {},
   "outputs": [
    {
     "name": "stdout",
     "output_type": "stream",
     "text": [
      "+--------+--------------------+------------+\n",
      "|VendorID|Tpep_pickup_datetime|Total_amount|\n",
      "+--------+--------------------+------------+\n",
      "|       1|          2020-12-31|         4.3|\n",
      "|       2|          2020-12-31|         8.3|\n",
      "|       2|          2020-12-31|        9.96|\n",
      "|       2|          2020-12-31|         9.3|\n",
      "|       2|          2020-12-31|         5.8|\n",
      "|       1|          2020-12-31|         0.0|\n",
      "|       1|          2020-12-31|         9.3|\n",
      "|       2|          2020-12-31|         9.8|\n",
      "|       2|          2020-12-31|         8.8|\n",
      "|       2|          2020-12-31|        9.96|\n",
      "+--------+--------------------+------------+\n",
      "only showing top 10 rows\n",
      "\n"
     ]
    }
   ],
   "source": [
    "##Ejercicio 3.1 Mostrar los resultados siguientes \n",
    "##VendorId, Tpep_pickup_datetime, Total_amount donde el total_amount sea menor a 10 dolares\n",
    "df.createOrReplaceTempView(\"yellow_tripdata\")\n",
    "spark.sql(\"Select VendorID, cast(Tpep_pickup_datetime as date), Total_amount FROM yellow_tripdata where total_amount<10\").show(10) \n"
   ]
  },
  {
   "cell_type": "code",
   "execution_count": 20,
   "id": "5fa3a39e-f654-4006-a800-b36575c5474e",
   "metadata": {},
   "outputs": [
    {
     "name": "stderr",
     "output_type": "stream",
     "text": [
      "[Stage 18:=============================>                            (1 + 1) / 2]"
     ]
    },
    {
     "name": "stdout",
     "output_type": "stream",
     "text": [
      "+----------+-----------------+\n",
      "|     Fecha|     total_amount|\n",
      "+----------+-----------------+\n",
      "|2021-01-28|961322.5600002451|\n",
      "|2021-01-22|942205.9300002148|\n",
      "|2021-01-29|937373.5100002222|\n",
      "|2021-01-21|932444.4500002082|\n",
      "|2021-01-15|931628.1900002063|\n",
      "|2021-01-14|926664.0400001821|\n",
      "|2021-01-27|  895259.87000017|\n",
      "|2021-01-19|890581.4500001629|\n",
      "|2021-01-07|887670.1600001527|\n",
      "|2021-01-08| 878002.730000146|\n",
      "+----------+-----------------+\n",
      "\n"
     ]
    },
    {
     "name": "stderr",
     "output_type": "stream",
     "text": [
      "                                                                                "
     ]
    }
   ],
   "source": [
    "##Mostrar los 10 días que más se recaudo dinero (Tpep_pickup_datetime, total_amount) \n",
    "spark.sql(\"Select cast(Tpep_pickup_datetime as date) as Fecha, SUM(total_amount) as total_amount FROM yellow_tripdata \\\n",
    "group by Fecha order by total_amount desc LIMIT 10\").show()"
   ]
  },
  {
   "cell_type": "code",
   "execution_count": 21,
   "id": "c466e170-23cc-4fb1-ba0c-70cc2ad8c916",
   "metadata": {},
   "outputs": [
    {
     "name": "stderr",
     "output_type": "stream",
     "text": [
      "[Stage 21:=============================>                            (1 + 1) / 2]"
     ]
    },
    {
     "name": "stdout",
     "output_type": "stream",
     "text": [
      "+-------------+------------+\n",
      "|trip_distance|total_amount|\n",
      "+-------------+------------+\n",
      "|        12.68|      -252.3|\n",
      "|        34.35|     -176.42|\n",
      "|        14.75|      -152.8|\n",
      "|        33.96|     -127.92|\n",
      "|         29.1|      -119.3|\n",
      "|        26.94|      -111.3|\n",
      "|        20.08|      -107.8|\n",
      "|        19.55|      -102.8|\n",
      "|        19.16|      -90.55|\n",
      "|        25.83|      -88.54|\n",
      "+-------------+------------+\n",
      "\n"
     ]
    },
    {
     "name": "stderr",
     "output_type": "stream",
     "text": [
      "                                                                                "
     ]
    }
   ],
   "source": [
    "##Mostrar los 10 viajes que menos dinero recaudo en viajes mayores a 10 millas (Trip_distance, total_amount) \n",
    "\n",
    "spark.sql(\"Select trip_distance, total_amount FROM yellow_tripdata where trip_distance>10 order by total_amount asc LIMIT 10\").show()"
   ]
  },
  {
   "cell_type": "code",
   "execution_count": 23,
   "id": "edd6aa48-66a3-49d5-ae75-8f52206853aa",
   "metadata": {},
   "outputs": [
    {
     "name": "stdout",
     "output_type": "stream",
     "text": [
      "+-------------+--------------------+\n",
      "|trip_distance|tpep_pickup_datetime|\n",
      "+-------------+--------------------+\n",
      "|         6.11|          2020-12-31|\n",
      "|          1.7|          2020-12-31|\n",
      "|         3.15|          2020-12-31|\n",
      "|        10.74|          2020-12-31|\n",
      "|         2.01|          2020-12-31|\n",
      "|         2.85|          2020-12-31|\n",
      "|         1.68|          2020-12-31|\n",
      "|         0.77|          2020-12-31|\n",
      "|          0.4|          2020-12-31|\n",
      "|        16.54|          2020-12-31|\n",
      "|          2.3|          2020-12-31|\n",
      "|          2.5|          2020-12-31|\n",
      "|         1.29|          2020-12-31|\n",
      "|          1.3|          2020-12-31|\n",
      "|          0.8|          2020-12-31|\n",
      "|         1.49|          2020-12-31|\n",
      "|         1.62|          2020-12-31|\n",
      "|         5.04|          2020-12-31|\n",
      "|          2.5|          2020-12-31|\n",
      "|         3.13|          2020-12-31|\n",
      "+-------------+--------------------+\n",
      "only showing top 20 rows\n",
      "\n"
     ]
    }
   ],
   "source": [
    "##Mostrar los viajes de más de dos pasajeros que hayan pagado con tarjeta de crédito (mostrar solo las columnas trip_distance, tpep_pickup_datetime) \n",
    "spark.sql(\"Select trip_distance, cast(tpep_pickup_datetime as date) FROM yellow_tripdata where passenger_count>2 and payment_type=1\").show()"
   ]
  },
  {
   "cell_type": "code",
   "execution_count": 28,
   "id": "85790f7d-6275-4cae-8d03-c118614c329d",
   "metadata": {},
   "outputs": [
    {
     "name": "stdout",
     "output_type": "stream",
     "text": [
      "+--------------------+-------------+---------------+----------+\n",
      "|tpep_pickup_datetime|trip_distance|passenger_count|tip_amount|\n",
      "+--------------------+-------------+---------------+----------+\n",
      "|          2021-01-20|        427.7|            1.0|   1140.44|\n",
      "|          2021-01-03|        267.7|            1.0|     369.4|\n",
      "|          2021-01-12|        326.1|            0.0|    192.61|\n",
      "|          2021-01-19|        260.5|            1.0|    149.03|\n",
      "|          2021-01-31|         11.1|            0.0|     100.0|\n",
      "|          2021-01-01|        14.86|            2.0|      99.0|\n",
      "|          2021-01-18|         13.0|            0.0|      90.0|\n",
      "+--------------------+-------------+---------------+----------+\n",
      "\n"
     ]
    }
   ],
   "source": [
    "##Mostrar los 7 viajes con mayor propina en distancia mayores a 10 millas (mostrar campos tpep_pickup_datetime, trip_distance, passenger_count, tip_amount)\n",
    "spark.sql(\"Select cast(tpep_pickup_datetime as date), trip_distance, passenger_count, tip_amount FROM yellow_tripdata where trip_distance>10 \\\n",
    "order by tip_amount desc LIMIT 7\").show()"
   ]
  },
  {
   "cell_type": "code",
   "execution_count": 30,
   "id": "e582ec7f-1c20-4fe1-985d-5719330e2172",
   "metadata": {},
   "outputs": [
    {
     "name": "stdout",
     "output_type": "stream",
     "text": [
      "+----------+--------------------+------------------+\n",
      "|RateCodeID|        total_amount|        avg_amount|\n",
      "+----------+--------------------+------------------+\n",
      "|       1.0|1.9496468430212937E7|15.606626116946773|\n",
      "|       4.0|   90039.93000000082| 74.90842762063296|\n",
      "|      null|  3051485.7299998133| 31.02616855783119|\n",
      "|       3.0|   67363.26000000043| 78.69539719626219|\n",
      "|       2.0|   973635.4700000732| 65.52937609369182|\n",
      "|      99.0|  1748.0699999999997| 48.55749999999999|\n",
      "|       6.0|               80.11|             8.011|\n",
      "|       5.0|  255075.08999999086|48.939963545662096|\n",
      "+----------+--------------------+------------------+\n",
      "\n"
     ]
    }
   ],
   "source": [
    "##Mostrar para cada uno de los valores de RateCodeID, el monto total y el monto promedio. Excluir los viajes en donde RateCodeID es Group Rate\n",
    "\n",
    "spark.sql(\"Select RateCodeID, SUM(total_amount) as total_amount, AVG(total_amount) as avg_amount FROM yellow_tripdata group by RateCodeID\").show()"
   ]
  },
  {
   "cell_type": "code",
   "execution_count": null,
   "id": "7a8a69a9-c59a-4701-856a-1e8b2f932c47",
   "metadata": {},
   "outputs": [],
   "source": []
  }
 ],
 "metadata": {
  "kernelspec": {
   "display_name": "Python 3 (ipykernel)",
   "language": "python",
   "name": "python3"
  },
  "language_info": {
   "codemirror_mode": {
    "name": "ipython",
    "version": 3
   },
   "file_extension": ".py",
   "mimetype": "text/x-python",
   "name": "python",
   "nbconvert_exporter": "python",
   "pygments_lexer": "ipython3",
   "version": "3.8.10"
  }
 },
 "nbformat": 4,
 "nbformat_minor": 5
}
